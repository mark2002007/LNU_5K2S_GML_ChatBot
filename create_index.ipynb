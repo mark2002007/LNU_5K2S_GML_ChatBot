{
 "cells": [
  {
   "cell_type": "code",
   "execution_count": 1,
   "metadata": {},
   "outputs": [],
   "source": [
    "import streamlit as st\n",
    "from neo4j import GraphDatabase, basic_auth\n",
    "from llm import embeddings\n",
    "import pickle\n",
    "from tqdm import tqdm"
   ]
  },
  {
   "cell_type": "code",
   "execution_count": 2,
   "metadata": {},
   "outputs": [
    {
     "data": {
      "text/plain": [
       "True"
      ]
     },
     "execution_count": 2,
     "metadata": {},
     "output_type": "execute_result"
    }
   ],
   "source": [
    "URI = st.secrets[\"NEO4J_URI\"]\n",
    "USERNAME = st.secrets[\"NEO4J_USERNAME\"]\n",
    "PASSWORD = st.secrets[\"NEO4J_PASSWORD\"]\n",
    "\n",
    "driver = GraphDatabase.driver(URI, auth=basic_auth(USERNAME, PASSWORD))\n",
    "driver.verify_connectivity()\n",
    "driver.verify_authentication()"
   ]
  },
  {
   "cell_type": "code",
   "execution_count": 3,
   "metadata": {},
   "outputs": [],
   "source": [
    "session = driver.session()"
   ]
  },
  {
   "cell_type": "code",
   "execution_count": 4,
   "metadata": {},
   "outputs": [],
   "source": [
    "records = session.execute_read(\n",
    "    lambda tx: [dict(r) for r in tx.run(\"\"\"\n",
    "MATCH (n:Tweet) \n",
    "RETURN n.id AS id, n.favorites AS favorites, n.text AS text\n",
    "\"\"\")]\n",
    ")\n",
    "texts = [str(result[\"text\"]) for result in records]\n",
    "text_embeddings = embeddings.embed_documents(texts)\n",
    "for result, embedding in zip(records, text_embeddings):\n",
    "    result[\"text_embedding\"] = embedding\n",
    "with open(\"tweets.pkl\", \"wb\") as f:\n",
    "    pickle.dump(records, f)"
   ]
  },
  {
   "cell_type": "code",
   "execution_count": 5,
   "metadata": {},
   "outputs": [
    {
     "name": "stderr",
     "output_type": "stream",
     "text": [
      "100%|██████████| 25/25 [00:56<00:00,  2.24s/it]\n"
     ]
    }
   ],
   "source": [
    "with open(\"tweets.pkl\", \"rb\") as f:\n",
    "    records = pickle.load(f)\n",
    "batch_size = 100\n",
    "batches = [records[i:i + batch_size] for i in range(0, len(records), batch_size)]\n",
    "for batch in tqdm(batches):\n",
    "    session.execute_write(\n",
    "        lambda tx: tx.run(\"\"\"\n",
    "UNWIND $batch AS row\n",
    "MATCH (n:Tweet {id: row.id})\n",
    "SET n.text_embedding = row.text_embedding\n",
    "\"\"\", batch=batch)\n",
    "    )"
   ]
  }
 ],
 "metadata": {
  "kernelspec": {
   "display_name": "Python 3",
   "language": "python",
   "name": "python3"
  },
  "language_info": {
   "codemirror_mode": {
    "name": "ipython",
    "version": 3
   },
   "file_extension": ".py",
   "mimetype": "text/x-python",
   "name": "python",
   "nbconvert_exporter": "python",
   "pygments_lexer": "ipython3",
   "version": "3.11.7"
  }
 },
 "nbformat": 4,
 "nbformat_minor": 2
}
